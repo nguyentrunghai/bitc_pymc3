{
 "cells": [
  {
   "cell_type": "code",
   "execution_count": 1,
   "metadata": {},
   "outputs": [],
   "source": [
    "import os\n",
    "import pickle\n",
    "\n",
    "import matplotlib.pyplot as plt\n",
    "\n",
    "import numpy as np\n",
    "import pymc3\n",
    "import theano.tensor as tt"
   ]
  },
  {
   "cell_type": "code",
   "execution_count": 2,
   "metadata": {},
   "outputs": [],
   "source": [
    "KB = 0.0019872041        # in kcal/mol/K\n",
    "INJ_VOL = 1.2e-5         # in liter\n",
    "CELL_CONCENTR = 0.1      # milli molar\n",
    "SYRINGE_CONCENTR = 1.0   # milli molar\n",
    "\n",
    "HEAT_FILE = \"inputs/Mg1EDTAp1a.DAT\"\n",
    "OUT_DIR = \"outputs\""
   ]
  },
  {
   "cell_type": "code",
   "execution_count": null,
   "metadata": {},
   "outputs": [],
   "source": [
    "def equilibrium_concentrations(Kd1, Kd2, C0_R, C0_L1, C0_L2, V):\n",
    "    \"\"\"\n",
    "    REF: Zhi-Xin Wang An exact mathematical expression for describing competitive\n",
    "                        binding of two different ligands to a protein molecule\n",
    "                        FEBS Letters 360 (1995) 111-114\n",
    "\n",
    "    Kd1, Kd2        :   disociation constants of ligand 1 and 2, respectively (M)\n",
    "    C0_R            :   total concentration receptor   (M)\n",
    "    C0_L1, C0_L2    :   total concentrations of ligand 1 and ligand 2, respectively (M)\n",
    "    V               :   volume of sample cell (L)\n",
    "    return\n",
    "                [RL1, RL2]  complex concentrations (M)\n",
    "    \"\"\"\n",
    "\n",
    "    a = Kd1 + Kd2 + C0_L1 + C0_L2 - C0_R\n",
    "\n",
    "    b = Kd2*(C0_L1 - C0_R) + Kd1*(C0_L2 - C0_R) + Kd1*Kd2\n",
    "\n",
    "    c = -Kd1 * Kd2 * C0_R\n",
    "\n",
    "    d = tt.sqrt(a*a - 3*b)\n",
    "\n",
    "    e = tt.clip((-2. * a**3 + 9. * a * b - 27. * c) / (2. * d**3), -1, 1)\n",
    "\n",
    "    theta = tt.arccos(e)\n",
    "\n",
    "    RL1 = C0_L1 * (2. * d * tt.cos(theta/3.) - a) / (3. * Kd1 + (2. * d * tt.cos(theta/3.) - a))\n",
    "    RL2 = C0_L2 * (2. * d * tt.cos(theta/3.) - a) / (3. * Kd2 + (2. * d * tt.cos(theta/3.) - a))\n",
    "\n",
    "    return RL1, RL2\n"
   ]
  }
 ],
 "metadata": {
  "kernelspec": {
   "display_name": "Python 3",
   "language": "python",
   "name": "python3"
  },
  "language_info": {
   "codemirror_mode": {
    "name": "ipython",
    "version": 3
   },
   "file_extension": ".py",
   "mimetype": "text/x-python",
   "name": "python",
   "nbconvert_exporter": "python",
   "pygments_lexer": "ipython3",
   "version": "3.7.3"
  }
 },
 "nbformat": 4,
 "nbformat_minor": 2
}
