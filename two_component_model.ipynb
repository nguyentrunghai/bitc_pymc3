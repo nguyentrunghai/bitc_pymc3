{
 "cells": [
  {
   "cell_type": "code",
   "execution_count": 1,
   "metadata": {},
   "outputs": [],
   "source": [
    "import pymc3\n",
    "import theano.tensor as tt"
   ]
  },
  {
   "cell_type": "code",
   "execution_count": 2,
   "metadata": {},
   "outputs": [],
   "source": [
    "def heats_TwoComponentBindingModel(V0, DeltaVn, P0, Ls, DeltaG, DeltaH, DeltaH_0, beta, N):\n",
    "    \"\"\"\n",
    "    Expected heats of injection for two-component binding model.\n",
    "\n",
    "    ARGUMENTS\n",
    "    V0 - cell volume (liter)\n",
    "    DeltaVn - injection volumes (liter)\n",
    "    P0 - Cell concentration (millimolar)\n",
    "    Ls - Syringe concentration (millimolar)\n",
    "    DeltaG - free energy of binding (kcal/mol)\n",
    "    DeltaH - enthalpy of binding (kcal/mol)\n",
    "    DeltaH_0 - heat of injection (cal)\n",
    "    beta - inverse temperature * gas constant (mole / kcal)\n",
    "    N - number of injections\n",
    "\n",
    "    Returns\n",
    "    -------\n",
    "    expected injection heats (calorie)\n",
    "\n",
    "    \"\"\"\n",
    "    Kd = tt.exp(beta * DeltaG)   # dissociation constant (M)\n",
    "\n",
    "    # Compute complex concentrations.\n",
    "    # Pn[n] is the protein concentration in sample cell after n injections\n",
    "    # (M)\n",
    "    Pn = tt.zeros([N])\n",
    "    # Ln[n] is the ligand concentration in sample cell after n injections\n",
    "    # (M)\n",
    "    Ln = tt.zeros([N])\n",
    "    # PLn[n] is the complex concentration in sample cell after n injections\n",
    "    # (M)\n",
    "    PLn = tt.zeros([N])\n",
    "\n",
    "    dcum = 1.0  # cumulative dilution factor (dimensionless)\n",
    "    for n in range(N):\n",
    "        # Instantaneous injection model (perfusion)\n",
    "        # dilution factor for this injection (dimensionless)\n",
    "        d = 1.0 - (DeltaVn[n] / V0)\n",
    "        dcum *= d  # cumulative dilution factor\n",
    "        # total quantity of protein in sample cell after n injections (mol)\n",
    "        P = V0 * P0 * 1.e-3 * dcum\n",
    "        # total quantity of ligand in sample cell after n injections (mol)\n",
    "        L = V0 * Ls * 1.e-3 * (1. - dcum)\n",
    "        \n",
    "        # complex concentration (M)\n",
    "        PLn = tt.set_subtensor(PLn[n], (0.5 / V0 * ((P + L + Kd * V0) - tt.sqrt((P + L + Kd * V0) ** 2 - 4 * P * L) )))\n",
    "\n",
    "        # free protein concentration in sample cell after n injections (M)\n",
    "        Pn = tt.set_subtensor(Pn[n], P / V0 - PLn[n])\n",
    "\n",
    "        # free ligand concentration in sample cell after n injections (M)\n",
    "        Ln = tt.set_subtensor(Ln[n], L / V0 - PLn[n])\n",
    "\n",
    "    # Compute expected injection heats.\n",
    "    # q_n_model[n] is the expected heat from injection n\n",
    "    q_n = tt.zeros([N])\n",
    "    # Instantaneous injection model (perfusion)\n",
    "    # first injection\n",
    "    q_n = tt.set_subtensor(q_n[0], (DeltaH * V0 * PLn[0])*1000. + DeltaH_0)\n",
    "\n",
    "    for n in range(1, N):\n",
    "        d = 1.0 - (DeltaVn[n] / V0)  # dilution factor (dimensionless)\n",
    "        # subsequent injections\n",
    "        q_n = tt.set_subtensor(q_n[n], (DeltaH * V0 * (PLn[n] - d * PLn[n - 1])) * 1000. + DeltaH_0)\n",
    "\n",
    "    return q_n"
   ]
  },
  {
   "cell_type": "code",
   "execution_count": 3,
   "metadata": {},
   "outputs": [],
   "source": [
    "tt.sqrt?"
   ]
  }
 ],
 "metadata": {
  "kernelspec": {
   "display_name": "Python 3",
   "language": "python",
   "name": "python3"
  },
  "language_info": {
   "codemirror_mode": {
    "name": "ipython",
    "version": 3
   },
   "file_extension": ".py",
   "mimetype": "text/x-python",
   "name": "python",
   "nbconvert_exporter": "python",
   "pygments_lexer": "ipython3",
   "version": "3.7.3"
  }
 },
 "nbformat": 4,
 "nbformat_minor": 2
}
